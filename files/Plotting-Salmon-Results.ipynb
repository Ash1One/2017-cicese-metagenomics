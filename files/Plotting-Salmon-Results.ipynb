{
 "cells": [
  {
   "cell_type": "code",
   "execution_count": 1,
   "metadata": {},
   "outputs": [],
   "source": [
    "import pandas as pd\n",
    "import matplotlib.pyplot as plt\n",
    "import palettable as pal\n",
    "%matplotlib inline\n"
   ]
  },
  {
   "cell_type": "code",
   "execution_count": 2,
   "metadata": {},
   "outputs": [
    {
     "name": "stdout",
     "output_type": "stream",
     "text": [
      "/home/ubuntu/quant\n"
     ]
    }
   ],
   "source": [
    "cd ~/quant\n"
   ]
  },
  {
   "cell_type": "markdown",
   "metadata": {},
   "source": [
    "## Load in data table with salmon counts"
   ]
  },
  {
   "cell_type": "code",
   "execution_count": 12,
   "metadata": {},
   "outputs": [
    {
     "data": {
      "text/html": [
       "<div>\n",
       "<style>\n",
       "    .dataframe thead tr:only-child th {\n",
       "        text-align: right;\n",
       "    }\n",
       "\n",
       "    .dataframe thead th {\n",
       "        text-align: left;\n",
       "    }\n",
       "\n",
       "    .dataframe tbody tr th {\n",
       "        vertical-align: top;\n",
       "    }\n",
       "</style>\n",
       "<table border=\"1\" class=\"dataframe\">\n",
       "  <thead>\n",
       "    <tr style=\"text-align: right;\">\n",
       "      <th></th>\n",
       "      <th>SRR1976948</th>\n",
       "      <th>SRR1977249</th>\n",
       "    </tr>\n",
       "    <tr>\n",
       "      <th>transcript</th>\n",
       "      <th></th>\n",
       "      <th></th>\n",
       "    </tr>\n",
       "  </thead>\n",
       "  <tbody>\n",
       "    <tr>\n",
       "      <th>PMFNBPKP_00001</th>\n",
       "      <td>44.3073</td>\n",
       "      <td>44.43960</td>\n",
       "    </tr>\n",
       "    <tr>\n",
       "      <th>PMFNBPKP_00002</th>\n",
       "      <td>12.7890</td>\n",
       "      <td>11.89990</td>\n",
       "    </tr>\n",
       "    <tr>\n",
       "      <th>PMFNBPKP_00003</th>\n",
       "      <td>13.8375</td>\n",
       "      <td>108.41100</td>\n",
       "    </tr>\n",
       "    <tr>\n",
       "      <th>PMFNBPKP_00004</th>\n",
       "      <td>25.0176</td>\n",
       "      <td>93.66800</td>\n",
       "    </tr>\n",
       "    <tr>\n",
       "      <th>PMFNBPKP_00005</th>\n",
       "      <td>19.3112</td>\n",
       "      <td>5.25834</td>\n",
       "    </tr>\n",
       "  </tbody>\n",
       "</table>\n",
       "</div>"
      ],
      "text/plain": [
       "                SRR1976948  SRR1977249\n",
       "transcript                            \n",
       "PMFNBPKP_00001     44.3073    44.43960\n",
       "PMFNBPKP_00002     12.7890    11.89990\n",
       "PMFNBPKP_00003     13.8375   108.41100\n",
       "PMFNBPKP_00004     25.0176    93.66800\n",
       "PMFNBPKP_00005     19.3112     5.25834"
      ]
     },
     "execution_count": 12,
     "metadata": {},
     "output_type": "execute_result"
    }
   ],
   "source": [
    "count_df=pd.read_table('Combined-counts.tab', index_col='transcript')\n",
    "count_df.head()\n"
   ]
  },
  {
   "cell_type": "markdown",
   "metadata": {},
   "source": [
    "## Histogram of data"
   ]
  },
  {
   "cell_type": "code",
   "execution_count": 15,
   "metadata": {},
   "outputs": [
    {
     "data": {
      "text/plain": [
       "<matplotlib.axes._subplots.AxesSubplot at 0x7f08bf025cc0>"
      ]
     },
     "execution_count": 15,
     "metadata": {},
     "output_type": "execute_result"
    },
    {
     "data": {
      "image/png": "[encoded data removed]",
      "text/plain": [
       "<matplotlib.figure.Figure at 0x7f08bc994a90>"
      ]
     },
     "metadata": {},
     "output_type": "display_data"
    }
   ],
   "source": [
    "fig, ax = plt.subplots(1) #set up a figure and axis handle\n",
    "count_df.plot(kind='hist', y='SRR1976948', ax=ax, \n",
    "              range=[0,1000], bins=100) #plot histogram\n"
   ]
  },
  {
   "cell_type": "markdown",
   "metadata": {},
   "source": [
    "## Make Scatter Plot"
   ]
  },
  {
   "cell_type": "code",
   "execution_count": 17,
   "metadata": {},
   "outputs": [
    {
     "data": {
      "text/plain": [
       "<matplotlib.axes._subplots.AxesSubplot at 0x7f08bc7df278>"
      ]
     },
     "execution_count": 17,
     "metadata": {},
     "output_type": "execute_result"
    },
    {
     "data": {
      "image/png": "[encoded data removed]",
      "text/plain": [
       "<matplotlib.figure.Figure at 0x7f08bc7fa470>"
      ]
     },
     "metadata": {},
     "output_type": "display_data"
    }
   ],
   "source": [
    "fig, ax = plt.subplots(1) #set up a figure and axis handle\n",
    "ax.set_aspect('equal')\n",
    "count_df.plot(kind='scatter', x='SRR1976948', y='SRR1977249', ax=ax) #plot scatter plot\n",
    "\n"
   ]
  },
  {
   "cell_type": "markdown",
   "metadata": {},
   "source": [
    "## Read in the Prokka annotations"
   ]
  },
  {
   "cell_type": "code",
   "execution_count": 19,
   "metadata": {},
   "outputs": [
    {
     "data": {
      "text/html": [
       "<div>\n",
       "<style>\n",
       "    .dataframe thead tr:only-child th {\n",
       "        text-align: right;\n",
       "    }\n",
       "\n",
       "    .dataframe thead th {\n",
       "        text-align: left;\n",
       "    }\n",
       "\n",
       "    .dataframe tbody tr th {\n",
       "        vertical-align: top;\n",
       "    }\n",
       "</style>\n",
       "<table border=\"1\" class=\"dataframe\">\n",
       "  <thead>\n",
       "    <tr style=\"text-align: right;\">\n",
       "      <th></th>\n",
       "      <th>ftype</th>\n",
       "      <th>gene</th>\n",
       "      <th>EC_number</th>\n",
       "      <th>product</th>\n",
       "    </tr>\n",
       "    <tr>\n",
       "      <th>locus_tag</th>\n",
       "      <th></th>\n",
       "      <th></th>\n",
       "      <th></th>\n",
       "      <th></th>\n",
       "    </tr>\n",
       "  </thead>\n",
       "  <tbody>\n",
       "    <tr>\n",
       "      <th>PMFNBPKP_00001</th>\n",
       "      <td>CDS</td>\n",
       "      <td>dhaT_1</td>\n",
       "      <td>1.1.1.202</td>\n",
       "      <td>1,3-propanediol dehydrogenase</td>\n",
       "    </tr>\n",
       "    <tr>\n",
       "      <th>PMFNBPKP_00002</th>\n",
       "      <td>CDS</td>\n",
       "      <td>NaN</td>\n",
       "      <td>NaN</td>\n",
       "      <td>hypothetical protein</td>\n",
       "    </tr>\n",
       "    <tr>\n",
       "      <th>PMFNBPKP_00003</th>\n",
       "      <td>CDS</td>\n",
       "      <td>proS_1</td>\n",
       "      <td>6.1.1.15</td>\n",
       "      <td>Proline--tRNA ligase</td>\n",
       "    </tr>\n",
       "    <tr>\n",
       "      <th>PMFNBPKP_00004</th>\n",
       "      <td>CDS</td>\n",
       "      <td>NaN</td>\n",
       "      <td>NaN</td>\n",
       "      <td>hypothetical protein</td>\n",
       "    </tr>\n",
       "    <tr>\n",
       "      <th>PMFNBPKP_00005</th>\n",
       "      <td>CDS</td>\n",
       "      <td>NaN</td>\n",
       "      <td>NaN</td>\n",
       "      <td>hypothetical protein</td>\n",
       "    </tr>\n",
       "    <tr>\n",
       "      <th>PMFNBPKP_00006</th>\n",
       "      <td>CDS</td>\n",
       "      <td>recD2_1</td>\n",
       "      <td>3.6.4.12</td>\n",
       "      <td>ATP-dependent RecD-like DNA helicase</td>\n",
       "    </tr>\n",
       "    <tr>\n",
       "      <th>PMFNBPKP_00007</th>\n",
       "      <td>CDS</td>\n",
       "      <td>trxB_1</td>\n",
       "      <td>1.8.1.9</td>\n",
       "      <td>Thioredoxin reductase</td>\n",
       "    </tr>\n",
       "    <tr>\n",
       "      <th>PMFNBPKP_00008</th>\n",
       "      <td>CDS</td>\n",
       "      <td>NaN</td>\n",
       "      <td>NaN</td>\n",
       "      <td>hypothetical protein</td>\n",
       "    </tr>\n",
       "    <tr>\n",
       "      <th>PMFNBPKP_00009</th>\n",
       "      <td>CDS</td>\n",
       "      <td>NaN</td>\n",
       "      <td>NaN</td>\n",
       "      <td>hypothetical protein</td>\n",
       "    </tr>\n",
       "    <tr>\n",
       "      <th>PMFNBPKP_00010</th>\n",
       "      <td>CDS</td>\n",
       "      <td>NaN</td>\n",
       "      <td>NaN</td>\n",
       "      <td>hypothetical protein</td>\n",
       "    </tr>\n",
       "    <tr>\n",
       "      <th>PMFNBPKP_00011</th>\n",
       "      <td>CDS</td>\n",
       "      <td>NaN</td>\n",
       "      <td>NaN</td>\n",
       "      <td>hypothetical protein</td>\n",
       "    </tr>\n",
       "    <tr>\n",
       "      <th>PMFNBPKP_00012</th>\n",
       "      <td>tRNA</td>\n",
       "      <td>NaN</td>\n",
       "      <td>NaN</td>\n",
       "      <td>tRNA-Gln(ctg)</td>\n",
       "    </tr>\n",
       "    <tr>\n",
       "      <th>PMFNBPKP_00013</th>\n",
       "      <td>CDS</td>\n",
       "      <td>ilvB_1</td>\n",
       "      <td>2.2.1.6</td>\n",
       "      <td>Acetolactate synthase large subunit</td>\n",
       "    </tr>\n",
       "    <tr>\n",
       "      <th>PMFNBPKP_00014</th>\n",
       "      <td>CDS</td>\n",
       "      <td>aroB_1</td>\n",
       "      <td>4.2.3.4</td>\n",
       "      <td>3-dehydroquinate synthase</td>\n",
       "    </tr>\n",
       "    <tr>\n",
       "      <th>PMFNBPKP_00015</th>\n",
       "      <td>CDS</td>\n",
       "      <td>aroC_1</td>\n",
       "      <td>4.2.3.5</td>\n",
       "      <td>Chorismate synthase</td>\n",
       "    </tr>\n",
       "    <tr>\n",
       "      <th>PMFNBPKP_00016</th>\n",
       "      <td>CDS</td>\n",
       "      <td>aroA1_1</td>\n",
       "      <td>2.5.1.19</td>\n",
       "      <td>3-phosphoshikimate 1-carboxyvinyltransferase 1</td>\n",
       "    </tr>\n",
       "    <tr>\n",
       "      <th>PMFNBPKP_00017</th>\n",
       "      <td>CDS</td>\n",
       "      <td>NaN</td>\n",
       "      <td>NaN</td>\n",
       "      <td>hypothetical protein</td>\n",
       "    </tr>\n",
       "    <tr>\n",
       "      <th>PMFNBPKP_00018</th>\n",
       "      <td>CDS</td>\n",
       "      <td>fusA_1</td>\n",
       "      <td>NaN</td>\n",
       "      <td>Elongation factor G</td>\n",
       "    </tr>\n",
       "    <tr>\n",
       "      <th>PMFNBPKP_00019</th>\n",
       "      <td>CDS</td>\n",
       "      <td>NaN</td>\n",
       "      <td>NaN</td>\n",
       "      <td>hypothetical protein</td>\n",
       "    </tr>\n",
       "    <tr>\n",
       "      <th>PMFNBPKP_00020</th>\n",
       "      <td>CDS</td>\n",
       "      <td>frp_1</td>\n",
       "      <td>1.5.1.38</td>\n",
       "      <td>NADPH-flavin oxidoreductase</td>\n",
       "    </tr>\n",
       "  </tbody>\n",
       "</table>\n",
       "</div>"
      ],
      "text/plain": [
       "               ftype     gene  EC_number  \\\n",
       "locus_tag                                  \n",
       "PMFNBPKP_00001   CDS   dhaT_1  1.1.1.202   \n",
       "PMFNBPKP_00002   CDS      NaN        NaN   \n",
       "PMFNBPKP_00003   CDS   proS_1   6.1.1.15   \n",
       "PMFNBPKP_00004   CDS      NaN        NaN   \n",
       "PMFNBPKP_00005   CDS      NaN        NaN   \n",
       "PMFNBPKP_00006   CDS  recD2_1   3.6.4.12   \n",
       "PMFNBPKP_00007   CDS   trxB_1    1.8.1.9   \n",
       "PMFNBPKP_00008   CDS      NaN        NaN   \n",
       "PMFNBPKP_00009   CDS      NaN        NaN   \n",
       "PMFNBPKP_00010   CDS      NaN        NaN   \n",
       "PMFNBPKP_00011   CDS      NaN        NaN   \n",
       "PMFNBPKP_00012  tRNA      NaN        NaN   \n",
       "PMFNBPKP_00013   CDS   ilvB_1    2.2.1.6   \n",
       "PMFNBPKP_00014   CDS   aroB_1    4.2.3.4   \n",
       "PMFNBPKP_00015   CDS   aroC_1    4.2.3.5   \n",
       "PMFNBPKP_00016   CDS  aroA1_1   2.5.1.19   \n",
       "PMFNBPKP_00017   CDS      NaN        NaN   \n",
       "PMFNBPKP_00018   CDS   fusA_1        NaN   \n",
       "PMFNBPKP_00019   CDS      NaN        NaN   \n",
       "PMFNBPKP_00020   CDS    frp_1   1.5.1.38   \n",
       "\n",
       "                                                       product  \n",
       "locus_tag                                                       \n",
       "PMFNBPKP_00001                   1,3-propanediol dehydrogenase  \n",
       "PMFNBPKP_00002                            hypothetical protein  \n",
       "PMFNBPKP_00003                            Proline--tRNA ligase  \n",
       "PMFNBPKP_00004                            hypothetical protein  \n",
       "PMFNBPKP_00005                            hypothetical protein  \n",
       "PMFNBPKP_00006            ATP-dependent RecD-like DNA helicase  \n",
       "PMFNBPKP_00007                           Thioredoxin reductase  \n",
       "PMFNBPKP_00008                            hypothetical protein  \n",
       "PMFNBPKP_00009                            hypothetical protein  \n",
       "PMFNBPKP_00010                            hypothetical protein  \n",
       "PMFNBPKP_00011                            hypothetical protein  \n",
       "PMFNBPKP_00012                                   tRNA-Gln(ctg)  \n",
       "PMFNBPKP_00013             Acetolactate synthase large subunit  \n",
       "PMFNBPKP_00014                       3-dehydroquinate synthase  \n",
       "PMFNBPKP_00015                             Chorismate synthase  \n",
       "PMFNBPKP_00016  3-phosphoshikimate 1-carboxyvinyltransferase 1  \n",
       "PMFNBPKP_00017                            hypothetical protein  \n",
       "PMFNBPKP_00018                             Elongation factor G  \n",
       "PMFNBPKP_00019                            hypothetical protein  \n",
       "PMFNBPKP_00020                     NADPH-flavin oxidoreductase  "
      ]
     },
     "execution_count": 19,
     "metadata": {},
     "output_type": "execute_result"
    }
   ],
   "source": [
    "prokka_id=pd.read_table('metagG.tsv', index_col=0)\n",
    "prokka_id.head(20)"
   ]
  },
  {
   "cell_type": "markdown",
   "metadata": {},
   "source": [
    "## Plot EC numbers of interest"
   ]
  },
  {
   "cell_type": "code",
   "execution_count": 6,
   "metadata": {},
   "outputs": [
    {
     "data": {
      "text/html": [
       "<div>\n",
       "<style>\n",
       "    .dataframe thead tr:only-child th {\n",
       "        text-align: right;\n",
       "    }\n",
       "\n",
       "    .dataframe thead th {\n",
       "        text-align: left;\n",
       "    }\n",
       "\n",
       "    .dataframe tbody tr th {\n",
       "        vertical-align: top;\n",
       "    }\n",
       "</style>\n",
       "<table border=\"1\" class=\"dataframe\">\n",
       "  <thead>\n",
       "    <tr style=\"text-align: right;\">\n",
       "      <th></th>\n",
       "      <th>ftype</th>\n",
       "      <th>gene</th>\n",
       "      <th>EC_number</th>\n",
       "      <th>product</th>\n",
       "    </tr>\n",
       "    <tr>\n",
       "      <th>locus_tag</th>\n",
       "      <th></th>\n",
       "      <th></th>\n",
       "      <th></th>\n",
       "      <th></th>\n",
       "    </tr>\n",
       "  </thead>\n",
       "  <tbody>\n",
       "    <tr>\n",
       "      <th>PMFNBPKP_00293</th>\n",
       "      <td>CDS</td>\n",
       "      <td>mrdB_1</td>\n",
       "      <td>2.4.1.129</td>\n",
       "      <td>Peptidoglycan glycosyltransferase MrdB</td>\n",
       "    </tr>\n",
       "    <tr>\n",
       "      <th>PMFNBPKP_01418</th>\n",
       "      <td>CDS</td>\n",
       "      <td>mrdB_2</td>\n",
       "      <td>2.4.1.129</td>\n",
       "      <td>Peptidoglycan glycosyltransferase MrdB</td>\n",
       "    </tr>\n",
       "    <tr>\n",
       "      <th>PMFNBPKP_02072</th>\n",
       "      <td>CDS</td>\n",
       "      <td>ftsW_1</td>\n",
       "      <td>2.4.1.129</td>\n",
       "      <td>putative peptidoglycan glycosyltransferase FtsW</td>\n",
       "    </tr>\n",
       "    <tr>\n",
       "      <th>PMFNBPKP_03256</th>\n",
       "      <td>CDS</td>\n",
       "      <td>ftsW_2</td>\n",
       "      <td>2.4.1.129</td>\n",
       "      <td>putative peptidoglycan glycosyltransferase FtsW</td>\n",
       "    </tr>\n",
       "    <tr>\n",
       "      <th>PMFNBPKP_06652</th>\n",
       "      <td>CDS</td>\n",
       "      <td>ftsW_3</td>\n",
       "      <td>2.4.1.129</td>\n",
       "      <td>putative peptidoglycan glycosyltransferase FtsW</td>\n",
       "    </tr>\n",
       "    <tr>\n",
       "      <th>PMFNBPKP_09111</th>\n",
       "      <td>CDS</td>\n",
       "      <td>mrdB_3</td>\n",
       "      <td>2.4.1.129</td>\n",
       "      <td>Peptidoglycan glycosyltransferase MrdB</td>\n",
       "    </tr>\n",
       "  </tbody>\n",
       "</table>\n",
       "</div>"
      ],
      "text/plain": [
       "               ftype    gene  EC_number  \\\n",
       "locus_tag                                 \n",
       "PMFNBPKP_00293   CDS  mrdB_1  2.4.1.129   \n",
       "PMFNBPKP_01418   CDS  mrdB_2  2.4.1.129   \n",
       "PMFNBPKP_02072   CDS  ftsW_1  2.4.1.129   \n",
       "PMFNBPKP_03256   CDS  ftsW_2  2.4.1.129   \n",
       "PMFNBPKP_06652   CDS  ftsW_3  2.4.1.129   \n",
       "PMFNBPKP_09111   CDS  mrdB_3  2.4.1.129   \n",
       "\n",
       "                                                        product  \n",
       "locus_tag                                                        \n",
       "PMFNBPKP_00293           Peptidoglycan glycosyltransferase MrdB  \n",
       "PMFNBPKP_01418           Peptidoglycan glycosyltransferase MrdB  \n",
       "PMFNBPKP_02072  putative peptidoglycan glycosyltransferase FtsW  \n",
       "PMFNBPKP_03256  putative peptidoglycan glycosyltransferase FtsW  \n",
       "PMFNBPKP_06652  putative peptidoglycan glycosyltransferase FtsW  \n",
       "PMFNBPKP_09111           Peptidoglycan glycosyltransferase MrdB  "
      ]
     },
     "execution_count": 6,
     "metadata": {},
     "output_type": "execute_result"
    }
   ],
   "source": [
    "ecNum='2.4.1.129' #choose an ec number you are interested in \n",
    "subset=prokka_id[prokka_id['EC_number']==ecNum]\n",
    "idlist=subset.index\n",
    "subset"
   ]
  },
  {
   "cell_type": "code",
   "execution_count": 7,
   "metadata": {},
   "outputs": [
    {
     "data": {
      "text/plain": [
       "<matplotlib.axes._subplots.AxesSubplot at 0x7f08bf0c0b70>"
      ]
     },
     "execution_count": 7,
     "metadata": {},
     "output_type": "execute_result"
    },
    {
     "data": {
      "image/png": "[encoded data removed]",
      "text/plain": [
       "<matplotlib.figure.Figure at 0x7f08bf0c0320>"
      ]
     },
     "metadata": {},
     "output_type": "display_data"
    }
   ],
   "source": [
    "counts_sub=count_df.loc[idlist]\n",
    "fig,ax=plt.subplots(1)\n",
    "ax.set_aspect('equal')\n",
    "count_df.plot(kind='scatter', x='SRR1976948', y='SRR1977249', \n",
    "              ax=ax, alpha=0.2, s=20) #plot scatter plot\n",
    "counts_sub.plot(kind='scatter',x='SRR1976948', y='SRR1977249', \n",
    "                ax=ax, color='red', s=50)\n"
   ]
  },
  {
   "cell_type": "markdown",
   "metadata": {},
   "source": [
    "## Group by EC number and then plot the mean and variance"
   ]
  },
  {
   "cell_type": "code",
   "execution_count": 23,
   "metadata": {},
   "outputs": [],
   "source": [
    "# merge the prokka dataframe with the count data frame\n",
    "counts_prokka=count_df.merge(prokka_id, left_index=True, right_index=True).dropna()\n",
    "mean=counts_prokka.groupby('EC_number').mean().dropna()\n",
    "std=counts_prokka.groupby('EC_number').std().dropna()\n",
    "\n",
    "\n"
   ]
  },
  {
   "cell_type": "code",
   "execution_count": 24,
   "metadata": {},
   "outputs": [
    {
     "data": {
      "text/plain": [
       "<matplotlib.axes._subplots.AxesSubplot at 0x7f08bf0ec9e8>"
      ]
     },
     "execution_count": 24,
     "metadata": {},
     "output_type": "execute_result"
    },
    {
     "data": {
      "image/png": "[encoded data removed]",
      "text/plain": [
       "<matplotlib.figure.Figure at 0x7f08bf0ed860>"
      ]
     },
     "metadata": {},
     "output_type": "display_data"
    }
   ],
   "source": [
    "fig, ax = plt.subplots(1)\n",
    "ax.set_aspect('equal')\n",
    "ax.set_xlim(-10,2000)\n",
    "ax.set_ylim(-10,2000)\n",
    "mean.plot(kind='scatter',x='SRR1976948', y='SRR1977249',\n",
    "          s=std, c='grey', ax=ax)"
   ]
  },
  {
   "cell_type": "code",
   "execution_count": 25,
   "metadata": {},
   "outputs": [
    {
     "data": {
      "image/png": "[encoded data removed]",
      "text/plain": [
       "<matplotlib.figure.Figure at 0x7f08bf0e35f8>"
      ]
     },
     "metadata": {},
     "output_type": "display_data"
    }
   ],
   "source": [
    "# Plot these data with colors\n",
    "\n",
    "# Color the images by the first number of the EC Number\n",
    "mean['EC_first']=mean.reset_index()['EC_number'].str[0]\n",
    "test=mean.reset_index()['EC_number'].str[0]\n",
    "test.index=mean.index\n",
    "mean['EC_first']=test #list that we will color\n",
    "\n",
    "# Set the color map \n",
    "EC_First=list(set(mean['EC_first']))\n",
    "cdict={}\n",
    "mycolors=pal.colorbrewer.qualitative.Accent_8.hex_colors\n",
    "for i, ec in enumerate(EC_First):\n",
    "    cdict[ec]=mycolors[i] \n",
    "    \n",
    "mean.replace({'EC_first':cdict}, inplace=True) #replace with color map\n",
    "\n",
    "\n",
    "# plot \n",
    "fig, ax = plt.subplots(1)\n",
    "ax.set_aspect('equal')\n",
    "ax.set_xlim(-10,2000)\n",
    "ax.set_ylim(-10,2000)\n",
    "\n",
    "\n",
    "for index, group in mean.groupby('EC_first'):\n",
    "    group.plot(kind='scatter',x='SRR1976948', y='SRR1977249',\n",
    "               s=std, ax=ax, color=index, alpha = 0.5)\n",
    "\n"
   ]
  },
  {
   "cell_type": "code",
   "execution_count": null,
   "metadata": {},
   "outputs": [],
   "source": []
  }
 ],
 "metadata": {
  "kernelspec": {
   "display_name": "Python 3",
   "language": "python",
   "name": "python3"
  },
  "language_info": {
   "codemirror_mode": {
    "name": "ipython",
    "version": 3
   },
   "file_extension": ".py",
   "mimetype": "text/x-python",
   "name": "python",
   "nbconvert_exporter": "python",
   "pygments_lexer": "ipython3",
   "version": "3.5.2+"
  }
 },
 "nbformat": 4,
 "nbformat_minor": 2
}
