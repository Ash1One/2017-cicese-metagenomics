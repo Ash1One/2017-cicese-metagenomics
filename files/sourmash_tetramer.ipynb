{
 "cells": [
  {
   "cell_type": "markdown",
   "metadata": {},
   "source": [
    "# Use sourmash to do tetramer nt frequency analysis\n",
    "\n",
    "Below, we're going to use [sourmash](http://sourmash.readthedocs.io/en/latest/) to look at the tetramer content (k=4) of our assembled contigs.\n",
    "\n",
    "## First, construct some signatures by running 'sourmash' at the command line."
   ]
  },
  {
   "cell_type": "code",
   "execution_count": 5,
   "metadata": {
    "collapsed": false
   },
   "outputs": [
    {
     "name": "stdout",
     "output_type": "stream",
     "text": [
      "/home/tx160085\n"
     ]
    }
   ],
   "source": [
    "cd"
   ]
  },
  {
   "cell_type": "code",
   "execution_count": 6,
   "metadata": {
    "collapsed": false
   },
   "outputs": [
    {
     "name": "stdout",
     "output_type": "stream",
     "text": [
      "mkdir: cannot create directory ‘sourmash’: File exists\r\n"
     ]
    }
   ],
   "source": [
    "!mkdir sourmash"
   ]
  },
  {
   "cell_type": "code",
   "execution_count": 7,
   "metadata": {
    "collapsed": false
   },
   "outputs": [
    {
     "name": "stdout",
     "output_type": "stream",
     "text": [
      "/home/tx160085/sourmash\n"
     ]
    }
   ],
   "source": [
    "cd ~/sourmash"
   ]
  },
  {
   "cell_type": "code",
   "execution_count": 8,
   "metadata": {
    "collapsed": false
   },
   "outputs": [],
   "source": [
    "ls"
   ]
  },
  {
   "cell_type": "code",
   "execution_count": 9,
   "metadata": {
    "collapsed": false
   },
   "outputs": [
    {
     "name": "stdout",
     "output_type": "stream",
     "text": [
      "\n",
      "|| This is the script extract-long-sequences.py in khmer.\n",
      "|| You are running khmer version 0+unknown\n",
      "|| You are also using screed version 1.0\n",
      "||\n",
      "|| If you use this script in a publication, please cite EACH of the following:\n",
      "||\n",
      "||   * MR Crusoe et al., 2015. http://dx.doi.org/10.12688/f1000research.6924.1\n",
      "||\n",
      "|| Please see http://khmer.readthedocs.io/en/latest/citations.html for details.\n",
      "\n",
      "wrote to: long-contigs.fa\n"
     ]
    }
   ],
   "source": [
    "# extract 5kb or longer sequences using khmer's 'extract-long-sequences'\n",
    "!extract-long-sequences.py -l 5000 ../mapping/subset_assembly.fa -o long-contigs.fa"
   ]
  },
  {
   "cell_type": "code",
   "execution_count": 10,
   "metadata": {
    "collapsed": false
   },
   "outputs": [
    {
     "name": "stdout",
     "output_type": "stream",
     "text": [
      "# running sourmash subcommand: compute\n",
      "setting num_hashes to 0 because --scaled is set\n",
      "computing signatures for files: long-contigs.fa\n",
      "Computing signature for ksizes: [4, 5]\n",
      "Computing only DNA (and not protein) signatures.\n",
      "Computing a total of 2 signatures.\n",
      "Tracking abundance of input k-mers.\n",
      "calculated 1014 signatures for 507 sequences in long-contigs.fa\n"
     ]
    }
   ],
   "source": [
    "# compute tetramer and pentamer nucleotide frequences for each contig\n",
    "# --singleton says \"compute signature for each sequence\"\n",
    "# -k 4,5 is ksizes to compute signatures for\n",
    "# --track-abundance says \"calculate frequencies of k-mers\"\n",
    "# --scaled=1 says \"don't subsample at all, keep all tetramers\"\n",
    "\n",
    "!sourmash compute --singleton long-contigs.fa -o long-contigs.sig -k 4,5 --track-abundance --scaled=1"
   ]
  },
  {
   "cell_type": "code",
   "execution_count": null,
   "metadata": {
    "collapsed": false
   },
   "outputs": [
    {
     "name": "stdout",
     "output_type": "stream",
     "text": [
      "# running sourmash subcommand: compare\n",
      "loading long-contigs.sig\n",
      "...sig loading 506\n"
     ]
    }
   ],
   "source": [
    "# compare all x all and save to a numpy matrix 'long-contigs.matrix'\n",
    "!sourmash compare long-contigs.sig -o long-contigs.matrix -k 4 > /dev/null"
   ]
  },
  {
   "cell_type": "markdown",
   "metadata": {},
   "source": [
    "## Now, plot the comparisons using sourmash's internal API\n",
    "\n",
    "(This could be done at the command line with `sourmash plot`, too.)"
   ]
  },
  {
   "cell_type": "code",
   "execution_count": null,
   "metadata": {
    "collapsed": false
   },
   "outputs": [],
   "source": [
    "%matplotlib inline\n",
    "from sourmash_lib import fig\n",
    "import pylab"
   ]
  },
  {
   "cell_type": "code",
   "execution_count": null,
   "metadata": {
    "collapsed": false
   },
   "outputs": [],
   "source": [
    "# note: you can adjust plots with 'vmin=0.3' or some such in the plot_composite_matrix function.\n",
    "matrix, labels = fig.load_matrix_and_labels('long-contigs.matrix')\n",
    "_ = fig.plot_composite_matrix(matrix, labels, show_labels=False)\n",
    "pylab.savefig('tetramer.png')"
   ]
  }
 ],
 "metadata": {
  "anaconda-cloud": {},
  "kernelspec": {
   "display_name": "Python [conda root]",
   "language": "python",
   "name": "conda-root-py"
  },
  "language_info": {
   "codemirror_mode": {
    "name": "ipython",
    "version": 3
   },
   "file_extension": ".py",
   "mimetype": "text/x-python",
   "name": "python",
   "nbconvert_exporter": "python",
   "pygments_lexer": "ipython3",
   "version": "3.5.2"
  }
 },
 "nbformat": 4,
 "nbformat_minor": 1
}
